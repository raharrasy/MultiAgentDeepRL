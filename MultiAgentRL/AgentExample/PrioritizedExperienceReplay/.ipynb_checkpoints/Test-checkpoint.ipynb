{
 "cells": [
  {
   "cell_type": "code",
   "execution_count": 1,
   "metadata": {},
   "outputs": [],
   "source": [
    "import WeightBasedExpReplay as expRep"
   ]
  },
  {
   "cell_type": "code",
   "execution_count": 2,
   "metadata": {},
   "outputs": [],
   "source": [
    "expReplay = expRep.WeightBasedExpReplay(50)"
   ]
  },
  {
   "cell_type": "code",
   "execution_count": 3,
   "metadata": {},
   "outputs": [],
   "source": [
    "for a in range(20):\n",
    "    expReplay.addExperience(str(a+1),a+1)"
   ]
  },
  {
   "cell_type": "code",
   "execution_count": 4,
   "metadata": {},
   "outputs": [
    {
     "data": {
      "text/plain": [
       "210"
      ]
     },
     "execution_count": 4,
     "metadata": {},
     "output_type": "execute_result"
    }
   ],
   "source": [
    "expReplay.sumTree.getAllSum()"
   ]
  },
  {
   "cell_type": "code",
   "execution_count": 6,
   "metadata": {},
   "outputs": [
    {
     "name": "stdout",
     "output_type": "stream",
     "text": [
      "cent: 210\n",
      "left: 210\n",
      "right: 0\n",
      "cent: 210\n",
      "left: 136\n",
      "right: 74\n",
      "cent: 136\n",
      "left: 36\n",
      "right: 100\n",
      "cent: 36\n",
      "left: 10\n",
      "right: 26\n",
      "cent: 10\n",
      "left: 3\n",
      "right: 7\n",
      "cent: 7\n",
      "left: 210\n",
      "right: 210\n"
     ]
    },
    {
     "data": {
      "text/plain": [
       "2"
      ]
     },
     "execution_count": 6,
     "metadata": {},
     "output_type": "execute_result"
    }
   ],
   "source": [
    "expReplay.sumTree.search(6)"
   ]
  },
  {
   "cell_type": "code",
   "execution_count": 7,
   "metadata": {},
   "outputs": [],
   "source": [
    "expReplay.addExperience(str(21),21)"
   ]
  },
  {
   "cell_type": "code",
   "execution_count": 8,
   "metadata": {},
   "outputs": [
    {
     "name": "stdout",
     "output_type": "stream",
     "text": [
      "cent: 231\n",
      "left: 231\n",
      "right: 0\n",
      "cent: 231\n",
      "left: 136\n",
      "right: 95\n",
      "cent: 136\n",
      "left: 36\n",
      "right: 100\n",
      "cent: 36\n",
      "left: 10\n",
      "right: 26\n",
      "cent: 10\n",
      "left: 3\n",
      "right: 7\n",
      "cent: 3\n",
      "left: 231\n",
      "right: 231\n"
     ]
    },
    {
     "data": {
      "text/plain": [
       "0"
      ]
     },
     "execution_count": 8,
     "metadata": {},
     "output_type": "execute_result"
    }
   ],
   "source": [
    "expReplay.sumTree.search(1.5)"
   ]
  },
  {
   "cell_type": "code",
   "execution_count": null,
   "metadata": {},
   "outputs": [],
   "source": []
  }
 ],
 "metadata": {
  "kernelspec": {
   "display_name": "Python 3",
   "language": "python",
   "name": "python3"
  },
  "language_info": {
   "codemirror_mode": {
    "name": "ipython",
    "version": 3
   },
   "file_extension": ".py",
   "mimetype": "text/x-python",
   "name": "python",
   "nbconvert_exporter": "python",
   "pygments_lexer": "ipython3",
   "version": "3.6.4"
  }
 },
 "nbformat": 4,
 "nbformat_minor": 2
}
